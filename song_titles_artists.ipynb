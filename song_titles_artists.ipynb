{
 "cells": [
  {
   "cell_type": "code",
   "execution_count": 57,
   "metadata": {},
   "outputs": [],
   "source": [
    "import numpy as np\n",
    "from typing import List, Tuple"
   ]
  },
  {
   "cell_type": "code",
   "execution_count": 67,
   "metadata": {},
   "outputs": [],
   "source": [
    "song_IDs = np.array([])\n",
    "\n",
    "artists = []\n",
    "song_names = []\n",
    "\n",
    "def identify_song(song_ID: int) -> Tuple[str, str]:\n",
    "    \"\"\"\n",
    "    Adds the list of song names and artists into the database, and \n",
    "    updates the list of unique song IDs for each song.\n",
    "    \n",
    "    Parameters:\n",
    "    -----------\n",
    "    song_ID: int\n",
    "        The ID of the song to classify.\n",
    "        \n",
    "    Returns:\n",
    "    --------\n",
    "    None\n",
    "    Prints song title and artist\n",
    "    \"\"\"\n",
    "    print(\"Song Title: {}\".format(song_names[song_ID]))\n",
    "    print(\"Artist: {}\".format(artists[song_ID]))\n",
    "    \n",
    "    \n",
    "    \n",
    "def add_songs(song_name_list: List[str], artist_list: List[str]):\n",
    "    \"\"\"\n",
    "    Adds the list of song names and artists into the database, and \n",
    "    updates the list of unique song IDs for each song.\n",
    "    \n",
    "    Parameters:\n",
    "    -----------\n",
    "    song_name_list: List[str]\n",
    "        A list containing a string of new song names to add\n",
    "    artist_list: List[str]\n",
    "        A corresponding list containing names of the artists\n",
    "        \n",
    "    Returns:\n",
    "    --------\n",
    "    Nothing\n",
    "    \"\"\"\n",
    "    global artists, song_names, song_IDs\n",
    "    \n",
    "    song_IDs = np.arange(len(song_IDs) + len(song_name_list))\n",
    "    artists += artist_list\n",
    "    song_names += song_name_list\n"
   ]
  }
 ],
 "metadata": {
  "kernelspec": {
   "display_name": "Python 3",
   "language": "python",
   "name": "python3"
  },
  "language_info": {
   "codemirror_mode": {
    "name": "ipython",
    "version": 3
   },
   "file_extension": ".py",
   "mimetype": "text/x-python",
   "name": "python",
   "nbconvert_exporter": "python",
   "pygments_lexer": "ipython3",
   "version": "3.8.3"
  }
 },
 "nbformat": 4,
 "nbformat_minor": 4
}
