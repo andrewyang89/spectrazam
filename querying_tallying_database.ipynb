{
 "cells": [
  {
   "cell_type": "code",
   "execution_count": 12,
   "metadata": {},
   "outputs": [],
   "source": [
    "import pickle"
   ]
  },
  {
   "cell_type": "code",
   "execution_count": 13,
   "metadata": {},
   "outputs": [],
   "source": [
    "def write_database(fingerprints, filename):\n",
    "    \"\"\"\n",
    "    Takes fingerprints and writes database and pickle dictionary\n",
    "    \n",
    "    Writes a pickle file with the peaks and the locations that they show up in different songs \n",
    "    given a dictionary with the song and associated fingerprints, \n",
    "    \n",
    "    Parameters\n",
    "    ----------\n",
    "    fingerprints : dictionary \n",
    "        song : fingerprints [((fm, fn, dt), tm), ...]\n",
    "        \n",
    "    filename : str\n",
    "        path to write the pickle file\n",
    "    \n",
    "    \n",
    "    \"\"\"\n",
    "    database = {}\n",
    "    for song in fingerprints:\n",
    "        for (fi, fj, dt), tm in fingerprints[song]:\n",
    "            if not (fi, fj, dt) in database:\n",
    "                database[(fi, fj, dt)] = []\n",
    "            database[(fi, fj, dt)].append((song, tm))\n",
    "    \n",
    "    with open(filename, mode=\"wb\") as opened_file:\n",
    "        pickle.dump(database, opened_file)"
   ]
  },
  {
   "cell_type": "code",
   "execution_count": 14,
   "metadata": {},
   "outputs": [],
   "source": [
    "def query_match(clip_fp, filename):\n",
    "    \"\"\"\n",
    "    Find most likely song given a particular clip fingerprint\n",
    "    Takes fingerprints of the clip and querys them in the database to find most likely song\n",
    "    \n",
    "    Parameters\n",
    "    ----------\n",
    "    fingerprints: dictionary \n",
    "        song : fingerprints [((fm, fn, dt), tm), ...]\n",
    "        \n",
    "    filename : str\n",
    "        path to read the pickle file\n",
    "    \"\"\"\n",
    "    with open(filename, mode=\"rb\") as opened_file:\n",
    "        database = pickle.load(opened_file)\n",
    "    \n",
    "    tally = {}\n",
    "    for (fm, fn, dt), t_clip in clip_fp:\n",
    "        if not fp in database:\n",
    "            continue\n",
    "        song, t_song = database[(fm, fn, dt)]\n",
    "        t_offset = t_song - t_clip\n",
    "        if not (song, t_offset) in tally:\n",
    "            tally[(song, t_offset)] = 0\n",
    "        tally[(song, t_offset)] += 1\n",
    "    \n",
    "    likely_song, offset = max(tally, key=tally.get)\n",
    "    return tally, likely_song"
   ]
  },
  {
   "cell_type": "code",
   "execution_count": null,
   "metadata": {},
   "outputs": [],
   "source": []
  }
 ],
 "metadata": {
  "kernelspec": {
   "display_name": "Python 3",
   "language": "python",
   "name": "python3"
  },
  "language_info": {
   "codemirror_mode": {
    "name": "ipython",
    "version": 3
   },
   "file_extension": ".py",
   "mimetype": "text/x-python",
   "name": "python",
   "nbconvert_exporter": "python",
   "pygments_lexer": "ipython3",
   "version": "3.8.3"
  }
 },
 "nbformat": 4,
 "nbformat_minor": 4
}
