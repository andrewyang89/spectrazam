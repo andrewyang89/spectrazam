{
 "cells": [
  {
   "cell_type": "code",
   "execution_count": 6,
   "metadata": {},
   "outputs": [],
   "source": [
    "import pickle"
   ]
  },
  {
   "cell_type": "code",
   "execution_count": 9,
   "metadata": {},
   "outputs": [],
   "source": [
    "# pass in a particular song to the spectogram \n",
    "\n",
    "def write_database(fingerprints):\n",
    "    \"\"\"\n",
    "    Takes fingerprints and writes database and pickle dictionary\n",
    "    \n",
    "    Parameters\n",
    "    ----------\n",
    "    fingerprints: dictionary - song : fingerprints [((fm, fn, dt), tm), ...]\n",
    "    \n",
    "    \n",
    "    \"\"\"\n",
    "    database = {}\n",
    "    for song in fingerprints:\n",
    "        for (fm, fn, dt), tm in fingerprints[song]:\n",
    "            if not (fm, fn, dt) in database:\n",
    "                database[(fm, fn, dt)] = []\n",
    "            database[(fm, fn, dt)].append((song, tm))\n",
    "    \n",
    "    with open(\"fingerprint_database.pkl\", mode=\"wb\") as opened_file:\n",
    "        pickle.dump(database, opened_file)"
   ]
  },
  {
   "cell_type": "code",
   "execution_count": 11,
   "metadata": {},
   "outputs": [],
   "source": [
    "def query_match(clip_fp):\n",
    "    \"\"\"\n",
    "    Takes fingerprints of the clip and querys them in the database to find most likely song\n",
    "    \"\"\"\n",
    "    with open(\"fingerprint_database.pkl\", mode=\"rb\") as opened_file:\n",
    "        database = pickle.load(opened_file)\n",
    "    \n",
    "    tally = {}\n",
    "    for (fm, fn, dt), t_clip in clip_fp:\n",
    "        if not fp in database:\n",
    "            continue\n",
    "        song, t_song = database[(fm, fn, dt)]\n",
    "        t_offset = t_song - t_clip\n",
    "        if not (song, t_offset) in tally:\n",
    "            tally[(song, t_offset)] = 0\n",
    "        tally[(song, t_offset)] += 1\n",
    "    \n",
    "    likely_song, offset = max(tally, key=tally.get)\n",
    "    return tally, likely_song\n"
   ]
  },
  {
   "cell_type": "code",
   "execution_count": null,
   "metadata": {},
   "outputs": [],
   "source": []
  }
 ],
 "metadata": {
  "kernelspec": {
   "display_name": "Python 3",
   "language": "python",
   "name": "python3"
  },
  "language_info": {
   "codemirror_mode": {
    "name": "ipython",
    "version": 3
   },
   "file_extension": ".py",
   "mimetype": "text/x-python",
   "name": "python",
   "nbconvert_exporter": "python",
   "pygments_lexer": "ipython3",
   "version": "3.8.3"
  }
 },
 "nbformat": 4,
 "nbformat_minor": 4
}
