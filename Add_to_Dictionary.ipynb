{
 "cells": [
  {
   "cell_type": "code",
   "execution_count": 4,
   "metadata": {},
   "outputs": [
    {
     "data": {
      "text/plain": [
       "tuple"
      ]
     },
     "execution_count": 4,
     "metadata": {},
     "output_type": "execute_result"
    }
   ],
   "source": []
  },
  {
   "cell_type": "code",
   "execution_count": null,
   "metadata": {},
   "outputs": [],
   "source": [
    "database = {}\n",
    "def add_to_dict(song_name, fanout_m):\n",
    "\n",
    "    for (fm, fn, dt), tm in fanout_m:\n",
    "        \n",
    "        if (fm, fn, dt) in database.keys():\n",
    "            database[(fm, fn, dt)].append((song_name, tm))\n",
    "            \n",
    "        else:\n",
    "            database[(fm, fn, dt)] = []\n",
    "            database[(fm, fn, dt)].append((song_name, tm))"
   ]
  }
 ],
 "metadata": {
  "kernelspec": {
   "display_name": "Python 3",
   "language": "python",
   "name": "python3"
  },
  "language_info": {
   "codemirror_mode": {
    "name": "ipython",
    "version": 3
   },
   "file_extension": ".py",
   "mimetype": "text/x-python",
   "name": "python",
   "nbconvert_exporter": "python",
   "pygments_lexer": "ipython3",
   "version": "3.8.3"
  }
 },
 "nbformat": 4,
 "nbformat_minor": 4
}
